{
  "nbformat": 4,
  "nbformat_minor": 0,
  "metadata": {
    "colab": {
      "provenance": [],
      "toc_visible": true
    },
    "kernelspec": {
      "name": "python3",
      "display_name": "Python 3"
    },
    "language_info": {
      "name": "python"
    }
  },
  "cells": [
    {
      "cell_type": "markdown",
      "source": [
        "# Data Preparation"
      ],
      "metadata": {
        "id": "uVHCY70__DPd"
      }
    },
    {
      "cell_type": "markdown",
      "source": [
        "โหลดและดูข้อมูลเบื้องต้น"
      ],
      "metadata": {
        "id": "9Z3a36kOwveQ"
      }
    },
    {
      "cell_type": "code",
      "execution_count": 1,
      "metadata": {
        "colab": {
          "base_uri": "https://localhost:8080/"
        },
        "id": "YQTbcENUveLE",
        "outputId": "778c1c33-6cb7-4a9f-ebc0-143405ceff3c"
      },
      "outputs": [
        {
          "output_type": "stream",
          "name": "stdout",
          "text": [
            "Mounted at /content/drive\n",
            "ไฟล์ CSV โหลดสำเร็จ!\n",
            "<class 'pandas.core.frame.DataFrame'>\n",
            "RangeIndex: 200 entries, 0 to 199\n",
            "Data columns (total 12 columns):\n",
            " #   Column                                      Non-Null Count  Dtype  \n",
            "---  ------                                      --------------  -----  \n",
            " 0   Country                                     200 non-null    object \n",
            " 1   Year                                        200 non-null    int64  \n",
            " 2   Industry                                    200 non-null    object \n",
            " 3   AI Adoption Rate (%)                        200 non-null    float64\n",
            " 4   AI-Generated Content Volume (TBs per year)  200 non-null    float64\n",
            " 5   Job Loss Due to AI (%)                      200 non-null    float64\n",
            " 6   Revenue Increase Due to AI (%)              200 non-null    float64\n",
            " 7   Human-AI Collaboration Rate (%)             200 non-null    float64\n",
            " 8   Top AI Tools Used                           200 non-null    object \n",
            " 9   Regulation Status                           200 non-null    object \n",
            " 10  Consumer Trust in AI (%)                    200 non-null    float64\n",
            " 11  Market Share of AI Companies (%)            200 non-null    float64\n",
            "dtypes: float64(7), int64(1), object(4)\n",
            "memory usage: 18.9+ KB\n",
            "None\n",
            "       Country  Year    Industry  AI Adoption Rate (%)  \\\n",
            "0  South Korea  2022       Media                 44.29   \n",
            "1        China  2025       Legal                 34.75   \n",
            "2          USA  2022  Automotive                 81.06   \n",
            "3       France  2021       Legal                 85.24   \n",
            "4       France  2021      Gaming                 78.95   \n",
            "\n",
            "   AI-Generated Content Volume (TBs per year)  Job Loss Due to AI (%)  \\\n",
            "0                                       33.09                   16.77   \n",
            "1                                       66.74                   46.89   \n",
            "2                                       96.13                   10.66   \n",
            "3                                       93.76                   27.70   \n",
            "4                                       45.62                   17.45   \n",
            "\n",
            "   Revenue Increase Due to AI (%)  Human-AI Collaboration Rate (%)  \\\n",
            "0                           46.12                            74.79   \n",
            "1                           52.46                            26.17   \n",
            "2                           45.60                            39.66   \n",
            "3                           78.24                            29.45   \n",
            "4                            1.05                            21.70   \n",
            "\n",
            "  Top AI Tools Used Regulation Status  Consumer Trust in AI (%)  \\\n",
            "0              Bard            Strict                     40.77   \n",
            "1            DALL-E            Strict                     35.67   \n",
            "2  Stable Diffusion          Moderate                     54.47   \n",
            "3            Claude          Moderate                     51.84   \n",
            "4        Midjourney            Strict                     41.77   \n",
            "\n",
            "   Market Share of AI Companies (%)  \n",
            "0                             18.73  \n",
            "1                             35.02  \n",
            "2                             22.76  \n",
            "3                              1.93  \n",
            "4                             21.41  \n"
          ]
        }
      ],
      "source": [
        "import pandas as pd\n",
        "from google.colab import drive\n",
        "drive.mount('/content/drive')\n",
        "file_path = '/content/drive/MyDrive/Project_data2025/Global_AI_Content_Impact_Dataset.csv'\n",
        "try:\n",
        "    df = pd.read_csv(file_path)\n",
        "    print(\"ไฟล์ CSV โหลดสำเร็จ!\")\n",
        "except FileNotFoundError:\n",
        "    print(f\"ไม่พบไฟล์ที่: {file_path}. กรุณาตรวจสอบ path หรืออัปโหลดไฟล์อีกครั้ง\")\n",
        "# ดูโครงสร้างข้อมูล\n",
        "print(df.info())\n",
        "print(df.head())"
      ]
    },
    {
      "cell_type": "markdown",
      "source": [
        "ตรวจสอบข้อมูลขาดหาย (Missing Data)"
      ],
      "metadata": {
        "id": "4_HGK7nP_Zv5"
      }
    },
    {
      "cell_type": "code",
      "source": [
        "missing_values = df.isnull().sum()\n",
        "\n",
        "if missing_values.sum() == 0:\n",
        "    print(\" ไม่พบ Missing Values ใน Dataset\")\n",
        "else:\n",
        "    print(\" พบ Missing Values ดังนี้:\")\n",
        "    print(missing_values[missing_values > 0])\n",
        "\n"
      ],
      "metadata": {
        "colab": {
          "base_uri": "https://localhost:8080/"
        },
        "id": "k1hLZHfA_VzT",
        "outputId": "283e6eff-6f46-4cab-9258-8aa31f308ace"
      },
      "execution_count": 2,
      "outputs": [
        {
          "output_type": "stream",
          "name": "stdout",
          "text": [
            " ไม่พบ Missing Values ใน Dataset\n"
          ]
        }
      ]
    },
    {
      "cell_type": "markdown",
      "source": [
        "ตรวจสอบข้อมูลซ้ำ"
      ],
      "metadata": {
        "id": "L_ToO-Rlptmt"
      }
    },
    {
      "cell_type": "code",
      "source": [
        "# ลบข้อมูลที่ซ้ำกัน\n",
        "df = df.drop_duplicates()\n",
        "\n"
      ],
      "metadata": {
        "id": "P1pIoCDWp0YC"
      },
      "execution_count": 3,
      "outputs": []
    },
    {
      "cell_type": "markdown",
      "source": [
        " ตรวจสอบและแปลงชนิดข้อมูล"
      ],
      "metadata": {
        "id": "bPHg3Lfcwarl"
      }
    },
    {
      "cell_type": "code",
      "source": [
        "# แปลงคอลัมน์ที่ควรเป็นตัวเลข\n",
        "cols_to_float = ['AI Adoption Rate (%)', 'Job Loss Due to AI (%)',\n",
        "                 'Revenue Increase Due to AI (%)', 'Human-AI Collaboration Rate (%)',\n",
        "                 'Consumer Trust in AI (%)', 'Market Share of AI Companies (%)']\n",
        "\n",
        "df[cols_to_float] = df[cols_to_float].astype(float)\n"
      ],
      "metadata": {
        "id": "womTcuv8p8EZ"
      },
      "execution_count": 4,
      "outputs": []
    },
    {
      "cell_type": "markdown",
      "source": [
        " Feature Engineering (สร้างฟิลด์ใหม่)"
      ],
      "metadata": {
        "id": "QOkNbRHfwdIT"
      }
    },
    {
      "cell_type": "code",
      "source": [
        "# สร้างฟีเจอร์ใหม่: ระดับ AI impact score อย่างง่าย\n",
        "df['AI Impact Score'] = df['AI Adoption Rate (%)'] * df['AI-Generated Content Volume (TBs per year)'] / 100\n"
      ],
      "metadata": {
        "id": "aIHWtRc_wfGr"
      },
      "execution_count": 5,
      "outputs": []
    },
    {
      "cell_type": "markdown",
      "source": [
        "#In-Depth Analysis"
      ],
      "metadata": {
        "id": "l0wsQSljncbV"
      }
    },
    {
      "cell_type": "markdown",
      "source": [
        "# Q1: ปัจจัยใดบ้างที่ส่งผลต่ออัตราการเลิกจ้างจาก AI?\n",
        "- ใช้เทคนิค Linear Regression"
      ],
      "metadata": {
        "id": "xbZ8hORxoDyn"
      }
    },
    {
      "cell_type": "code",
      "source": [
        "from sklearn.linear_model import LinearRegression\n",
        "from sklearn.model_selection import train_test_split\n",
        "from sklearn.metrics import mean_squared_error\n",
        "\n",
        "#  เลือกเฉพาะคอลัมน์ที่ใช้วิเคราะห์ (อาจต้องจัดการ missing ก่อน)\n",
        "df_clean = df[['AI Adoption Rate (%)',\n",
        "               'AI-Generated Content Volume (TBs per year)',\n",
        "               'Human-AI Collaboration Rate (%)',\n",
        "               'Revenue Increase Due to AI (%)',\n",
        "               'Consumer Trust in AI (%)',\n",
        "               'Job Loss Due to AI (%)']].dropna()\n",
        "\n",
        "#  ตัวแปรอิสระ (X) และ ตัวแปรตาม (y)\n",
        "X = df_clean.drop(columns=['Job Loss Due to AI (%)'])\n",
        "y = df_clean['Job Loss Due to AI (%)']\n",
        "\n",
        "#  แบ่งข้อมูล Train/Test\n",
        "X_train, X_test, y_train, y_test = train_test_split(X, y, test_size=0.2, random_state=42)\n",
        "\n",
        "# สร้างโมเดล Linear Regression\n",
        "model = LinearRegression()\n",
        "model.fit(X_train, y_train)\n",
        "\n",
        "#  ทำนายผล\n",
        "y_pred = model.predict(X_test)\n",
        "\n",
        "# ประเมินโมเดล\n",
        "mse = mean_squared_error(y_test, y_pred)\n",
        "print(\"mean Squared Error:\", mse)\n",
        "\n",
        "# แสดง Coefficient ของแต่ละตัวแปร\n",
        "coefficients = pd.DataFrame({\n",
        "    'Feature': X.columns,\n",
        "    'Coefficient': model.coef_\n",
        "})\n",
        "print(\"\\nCoefficients:\")\n",
        "print(coefficients)"
      ],
      "metadata": {
        "id": "a7UBBlHhoHNu",
        "colab": {
          "base_uri": "https://localhost:8080/"
        },
        "outputId": "1c28eeef-3af5-4050-b184-8fbc2c91f018"
      },
      "execution_count": 6,
      "outputs": [
        {
          "output_type": "stream",
          "name": "stdout",
          "text": [
            "mean Squared Error: 239.450040594359\n",
            "\n",
            "Coefficients:\n",
            "                                      Feature  Coefficient\n",
            "0                        AI Adoption Rate (%)    -0.005866\n",
            "1  AI-Generated Content Volume (TBs per year)     0.021037\n",
            "2             Human-AI Collaboration Rate (%)     0.033223\n",
            "3              Revenue Increase Due to AI (%)     0.082786\n",
            "4                    Consumer Trust in AI (%)     0.008971\n"
          ]
        }
      ]
    },
    {
      "cell_type": "markdown",
      "source": [
        "**วิเคราะห์ผล:**\n",
        "\n",
        "- ตัวแปรที่มีค่าสัมประสิทธิ์สูงสุด: Revenue Increase Due to AI (%) (0.0827)\n",
        "\n",
        "- สื่อว่า เมื่อรายได้เพิ่มจากการใช้ AI ก็มีแนวโน้มว่า การเลิกจ้างเพิ่มขึ้นด้วย\n",
        "\n",
        "- Human-AI Collaboration Rate (%) (0.0332) ก็สัมพันธ์เชิงบวก แต่อ่อนกว่า\n",
        "\n",
        "- ในทางกลับกัน AI Adoption Rate (%) มีค่าสัมประสิทธิ์ติดลบเล็กน้อย - หมายความว่าในบางกรณี การใช้ AI อย่างแพร่หลายอาจไม่เกี่ยวกับการเลิกจ้างโดยตรง"
      ],
      "metadata": {
        "id": "5eiug8hmy74Z"
      }
    },
    {
      "cell_type": "markdown",
      "source": [
        "# Q2: Human-AI Collaboration ช่วยลดการตกงานหรือไม่?\n",
        " - ใช้ Correlation Analysis"
      ],
      "metadata": {
        "id": "GuyQx5c1oMcE"
      }
    },
    {
      "cell_type": "code",
      "source": [
        "# 🔍 วิเคราะห์ความสัมพันธ์ (Correlation) ระหว่าง Human-AI Collaboration และ Job Loss\n",
        "correlation = df[['Human-AI Collaboration Rate (%)', 'Job Loss Due to AI (%)']].dropna().corr()\n",
        "\n",
        "print(\"\\n🔗 Correlation Matrix:\")\n",
        "print(correlation)\n"
      ],
      "metadata": {
        "id": "bY8gROgfoMND",
        "colab": {
          "base_uri": "https://localhost:8080/"
        },
        "outputId": "c23c295a-5bc8-42f2-e4b3-ddcdba2ffb93"
      },
      "execution_count": 7,
      "outputs": [
        {
          "output_type": "stream",
          "name": "stdout",
          "text": [
            "\n",
            "🔗 Correlation Matrix:\n",
            "                                 Human-AI Collaboration Rate (%)  \\\n",
            "Human-AI Collaboration Rate (%)                         1.000000   \n",
            "Job Loss Due to AI (%)                                  0.021559   \n",
            "\n",
            "                                 Job Loss Due to AI (%)  \n",
            "Human-AI Collaboration Rate (%)                0.021559  \n",
            "Job Loss Due to AI (%)                         1.000000  \n"
          ]
        }
      ]
    },
    {
      "cell_type": "markdown",
      "source": [
        "**ความหมายของค่า Correlation:**\n",
        "- ค่าความสัมพันธ์ (Correlation Coefficient) ระหว่าง Year และ Job Loss Due to AI (%) คือ -0.105\n",
        "\n",
        "- ค่าอยู่ในช่วง -1 ถึง 1:\n",
        "\n",
        "  - ใกล้ 0 = ความสัมพันธ์อ่อนหรือไม่มีเลย\n",
        "\n",
        "  - ค่าบวก = ความสัมพันธ์ทางเดียว (ปีเพิ่ม อัตราเลิกจ้างเพิ่ม)\n",
        "\n",
        "  - ค่าลบ = ความสัมพันธ์สวนทาง (ปีเพิ่ม อัตราเลิกจ้างลด)\n",
        "\n",
        "**ตีความ**\n",
        "- ค่า -0.105 เป็น ความสัมพันธ์เชิงลบอ่อนมาก แสดงว่า:\n",
        "\n",
        "  - เมื่อปีเพิ่มขึ้น (เช่น จาก 2020 → 2025) อัตราการเลิกจ้างจาก AI มีแนวโน้มลดลงเล็กน้อย\n",
        "\n",
        "- อย่างไรก็ตาม ค่า -0.105 นั้นเล็กมากเกินกว่าจะสรุปได้ว่ามีความสัมพันธ์ที่ชัดเจนหรือมีนัยสำคัญทางสถิติ\n",
        "\n",
        "**ข้อเสนอแนะ**\n",
        "- ควรวิเคราะห์ต่อด้วยการดูแนวโน้มแบบเส้นตรงหรือเส้นเวลา (line chart) เพื่อดูภาพรวมว่าในช่วง 2020–2025 มีแนวโน้มเพิ่มหรือลดจริงหรือไม่\n",
        "\n",
        "- อาจมีปัจจัยแทรก เช่น นโยบาย, เทคโนโลยีใหม่, ความไว้วางใจของผู้บริโภค ฯลฯ ที่มีผลมากกว่าปีเพียงอย่างเดียว\n",
        "\n"
      ],
      "metadata": {
        "id": "Mb_3GCFY0COu"
      }
    },
    {
      "cell_type": "markdown",
      "source": [
        "# แนวโน้มการเลิกจ้างงานจาก AI ตามปี (2020–2025)"
      ],
      "metadata": {
        "id": "Z5WntIX1037-"
      }
    },
    {
      "cell_type": "code",
      "source": [
        "import seaborn as sns\n",
        "import matplotlib.pyplot as plt\n",
        "\n",
        "# Line plot เพื่อดูแนวโน้มของ Job Loss ตามปี\n",
        "plt.figure(figsize=(8, 5))\n",
        "sns.lineplot(data=df, x='Year', y='Job Loss Due to AI (%)', marker='o')\n",
        "plt.title('Trend of Job Loss Due to AI Over Time')\n",
        "plt.xlabel('Year')\n",
        "plt.ylabel('Job Loss Due to AI (%)')\n",
        "plt.grid(True)\n",
        "plt.tight_layout()\n",
        "plt.show()\n"
      ],
      "metadata": {
        "colab": {
          "base_uri": "https://localhost:8080/",
          "height": 507
        },
        "id": "y0pcHEziz8TL",
        "outputId": "70369039-9bfd-4b49-f44f-b3ba86681aa0"
      },
      "execution_count": 8,
      "outputs": [
        {
          "output_type": "display_data",
          "data": {
            "text/plain": [
              "<Figure size 800x500 with 1 Axes>"
            ],
            "image/png": "[encoded data removed]"
          },
          "metadata": {}
        }
      ]
    },
    {
      "cell_type": "markdown",
      "source": [
        "**สรุปจากกราฟ:**\n",
        "- ในช่วงปี 2020–2021 อัตราการเลิกจ้างจาก AI ค่อนข้าง คงที่\n",
        "\n",
        "- ปี 2022 มีการ ลดลงอย่างชัดเจน\n",
        "\n",
        "- ต่อมาในปี 2023–2024 แนวโน้ม เพิ่มขึ้นอีกครั้ง\n",
        "\n",
        "- ปี 2025 มีการ ลดลงเล็กน้อย\n",
        "\n",
        "**การตีความเบื้องต้น:**\n",
        "- แนวโน้มแสดงถึง การเปลี่ยนแปลงแบบไม่แน่นอน (Fluctuating trend) อาจเกิดจาก:\n",
        "\n",
        "  - ความไม่แน่นอนของเทคโนโลยี\n",
        "\n",
        "  - การนำ AI ไปใช้ในอุตสาหกรรมต่างๆ ที่ไม่เท่ากัน\n",
        "\n",
        "  - นโยบายหรือมาตรการภาครัฐ\n",
        "\n",
        "- แม้จะมีการเพิ่มขึ้นบางปี แต่โดยรวมไม่ได้แสดงให้เห็นถึง ความสัมพันธ์เชิงบวกอย่างชัดเจน ระหว่างปีและการเลิกจ้าง"
      ],
      "metadata": {
        "id": "th3ty5UE08zu"
      }
    },
    {
      "cell_type": "code",
      "source": [
        "# Export ข้อมูลที่ผ่านการทำความสะอาดและเพิ่มฟีเจอร์แล้ว\n",
        "df.to_csv(\"ai_impact_with_score.csv\", index=False)\n"
      ],
      "metadata": {
        "id": "9-rfHt0931d6"
      },
      "execution_count": null,
      "outputs": []
    },
    {
      "cell_type": "code",
      "source": [
        "# ดาวน์โหลดไฟล์ไปยังเครื่องของคุณ\n",
        "from google.colab import files\n",
        "files.download(\"ai_impact_with_score.csv\")\n"
      ],
      "metadata": {
        "id": "PoUudRuP320-",
        "outputId": "2da9910e-68fa-4e7d-80ab-b0648292f9b0",
        "colab": {
          "base_uri": "https://localhost:8080/",
          "height": 17
        }
      },
      "execution_count": null,
      "outputs": [
        {
          "output_type": "display_data",
          "data": {
            "text/plain": [
              "<IPython.core.display.Javascript object>"
            ],
            "application/javascript": [
              "\n",
              "    async function download(id, filename, size) {\n",
              "      if (!google.colab.kernel.accessAllowed) {\n",
              "        return;\n",
              "      }\n",
              "      const div = document.createElement('div');\n",
              "      const label = document.createElement('label');\n",
              "      label.textContent = `Downloading \"${filename}\": `;\n",
              "      div.appendChild(label);\n",
              "      const progress = document.createElement('progress');\n",
              "      progress.max = size;\n",
              "      div.appendChild(progress);\n",
              "      document.body.appendChild(div);\n",
              "\n",
              "      const buffers = [];\n",
              "      let downloaded = 0;\n",
              "\n",
              "      const channel = await google.colab.kernel.comms.open(id);\n",
              "      // Send a message to notify the kernel that we're ready.\n",
              "      channel.send({})\n",
              "\n",
              "      for await (const message of channel.messages) {\n",
              "        // Send a message to notify the kernel that we're ready.\n",
              "        channel.send({})\n",
              "        if (message.buffers) {\n",
              "          for (const buffer of message.buffers) {\n",
              "            buffers.push(buffer);\n",
              "            downloaded += buffer.byteLength;\n",
              "            progress.value = downloaded;\n",
              "          }\n",
              "        }\n",
              "      }\n",
              "      const blob = new Blob(buffers, {type: 'application/binary'});\n",
              "      const a = document.createElement('a');\n",
              "      a.href = window.URL.createObjectURL(blob);\n",
              "      a.download = filename;\n",
              "      div.appendChild(a);\n",
              "      a.click();\n",
              "      div.remove();\n",
              "    }\n",
              "  "
            ]
          },
          "metadata": {}
        },
        {
          "output_type": "display_data",
          "data": {
            "text/plain": [
              "<IPython.core.display.Javascript object>"
            ],
            "application/javascript": [
              "download(\"download_66e55292-95ba-442e-b5cf-9a5c624b8ce3\", \"ai_impact_with_score.csv\", 18565)"
            ]
          },
          "metadata": {}
        }
      ]
    }
  ]
}